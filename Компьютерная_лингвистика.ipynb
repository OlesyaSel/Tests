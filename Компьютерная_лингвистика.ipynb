{
  "cells": [
    {
      "cell_type": "markdown",
      "metadata": {
        "id": "view-in-github",
        "colab_type": "text"
      },
      "source": [
        "<a href=\"https://colab.research.google.com/github/OlesyaSel/Tests/blob/main/%D0%9A%D0%BE%D0%BC%D0%BF%D1%8C%D1%8E%D1%82%D0%B5%D1%80%D0%BD%D0%B0%D1%8F_%D0%BB%D0%B8%D0%BD%D0%B3%D0%B2%D0%B8%D1%81%D1%82%D0%B8%D0%BA%D0%B0.ipynb\" target=\"_parent\"><img src=\"https://colab.research.google.com/assets/colab-badge.svg\" alt=\"Open In Colab\"/></a>"
      ]
    },
    {
      "cell_type": "code",
      "execution_count": 20,
      "metadata": {
        "id": "WAADMy0mJukb"
      },
      "outputs": [],
      "source": [
        "import nltk\n",
        "from nltk.util import ngrams\n",
        "from nltk.probability import FreqDist\n",
        "from nltk import word_tokenize\n",
        "from collections import defaultdict\n",
        "import matplotlib.pyplot as plt"
      ]
    },
    {
      "cell_type": "code",
      "execution_count": 21,
      "metadata": {
        "colab": {
          "base_uri": "https://localhost:8080/"
        },
        "id": "VnPRLgG1Jwzh",
        "outputId": "a2a0b5d0-bffb-429d-c26c-8900d58d7f9a"
      },
      "outputs": [
        {
          "output_type": "stream",
          "name": "stderr",
          "text": [
            "[nltk_data] Downloading package punkt to /root/nltk_data...\n",
            "[nltk_data]   Package punkt is already up-to-date!\n"
          ]
        },
        {
          "output_type": "execute_result",
          "data": {
            "text/plain": [
              "True"
            ]
          },
          "metadata": {},
          "execution_count": 21
        }
      ],
      "source": [
        "nltk.download('punkt')"
      ]
    },
    {
      "cell_type": "code",
      "execution_count": 22,
      "metadata": {
        "id": "ENPkH3dcFPPW"
      },
      "outputs": [],
      "source": [
        "import re\n",
        "import pandas as pd\n",
        "\n",
        "with open('book.txt', 'r', encoding='cp1251') as file:\n",
        "    book = file.read()\n",
        "\n",
        "book_cleaned = re.sub(r'[^\\w\\s]', '', book).lower()"
      ]
    },
    {
      "cell_type": "code",
      "execution_count": 23,
      "metadata": {
        "id": "nTqNTHsgJnrr",
        "colab": {
          "base_uri": "https://localhost:8080/"
        },
        "outputId": "577174da-ab1a-41ce-dfc5-2489ff63753a"
      },
      "outputs": [
        {
          "output_type": "stream",
          "name": "stdout",
          "text": [
            "Наиболее частотные биграммы: [(('начальник', 'стражи'), 27), (('король', 'эльфов'), 23), (('перед', 'сценой'), 15), (('фили', 'и'), 15), (('и', 'кили'), 15), (('к', 'вашим'), 14), (('вашим', 'услугам'), 14), (('в', 'темноте'), 13), (('и', 'не'), 12), (('бильбо', 'торбинс'), 10)]\n",
            "Наиболее частотные триграммы: [(('фили', 'и', 'кили'), 15), (('к', 'вашим', 'услугам'), 14), (('государства', 'под', 'горой'), 8), (('да', 'мой', 'король'), 8), (('гномам', 'нечего', 'бояться'), 7), (('гэндальф', 'стоящий', 'перед'), 6), (('стоящий', 'перед', 'сценой'), 6), (('что', 'лежит', 'в'), 6), (('король', 'подгорного', 'государства'), 5), (('в', 'этот', 'момент'), 5)]\n"
          ]
        }
      ],
      "source": [
        "tokens = word_tokenize(book_cleaned)\n",
        "\n",
        "bigrams = list(ngrams(tokens, 2))\n",
        "trigrams = list(ngrams(tokens, 3))\n",
        "\n",
        "freq_bigrams = FreqDist(bigrams)\n",
        "freq_trigrams = FreqDist(trigrams)\n",
        "\n",
        "print('Наиболее частотные биграммы:', freq_bigrams.most_common(10))\n",
        "print('Наиболее частотные триграммы:', freq_trigrams.most_common(10))"
      ]
    },
    {
      "cell_type": "code",
      "execution_count": null,
      "metadata": {
        "id": "8IKurzuQxpRP"
      },
      "outputs": [],
      "source": [
        "top_bigrams = freq_bigrams.most_common(10)\n",
        "top_trigrams = freq_trigrams.most_common(10)\n",
        "\n",
        "bigram_freq = []\n",
        "bigrams = []\n",
        "for bigram in top_bigrams:\n",
        "    bigram_freq.append(bigram[1])\n",
        "    bigrams.append(' '.join(bigram[0]))\n",
        "\n",
        "trigram_freq = []\n",
        "trigrams = []\n",
        "for trigram in top_trigrams:\n",
        "    trigram_freq.append(trigram[1])\n",
        "    trigrams.append(' '.join(trigram[0]))\n",
        "\n",
        "plt.bar(bigrams, bigram_freq)\n",
        "plt.title('Частота наиболее частотных биграмм')\n",
        "plt.xticks(rotation=90)\n",
        "plt.show()\n",
        "\n",
        "plt.bar(trigrams, trigram_freq)\n",
        "plt.title('Частота наиболее частотных триграмм')\n",
        "plt.xticks(rotation=90)\n",
        "plt.show()\n"
      ]
    },
    {
      "cell_type": "code",
      "execution_count": 25,
      "metadata": {
        "colab": {
          "base_uri": "https://localhost:8080/"
        },
        "id": "a5QEF2CjJ7Mw",
        "outputId": "c40e109b-d0e6-49e7-fb46-4ee1babd9a42"
      },
      "outputs": [
        {
          "output_type": "stream",
          "name": "stdout",
          "text": [
            "Реплики мужчин (первые 5):\n",
            "БИЛЬБО: (еще более ошарашенно): Оч-чень приятно. Бильбо Торбинс. Но я\n",
            "БИЛЬБО: Извините.\n",
            "БИЛЬБО: Бильбо Торбинс.\n",
            "БИЛЬБО: Гэндальф? Тот  самый  милый  старик,  что  когда-то  в  канун\n",
            "БИЛЬБО: Мне кажется, надо  подойти  к  Горе  с  востока  и  на  месте\n"
          ]
        }
      ],
      "source": [
        "replies = re.findall(r'\\n\\s*([А-ЯЁ]+): (.*?)\\n', book)\n",
        "\n",
        "names_df = pd.read_csv('names_gender.csv', encoding='cp1251')\n",
        "\n",
        "def gender_by_name(name):\n",
        "    gender = names_df[names_df['name'] == name]['gender']\n",
        "    if len(gender) > 0:\n",
        "        return gender.values[0]\n",
        "    else:\n",
        "        return None\n",
        "\n",
        "replies_gender = defaultdict(list)\n",
        "for name, reply in replies:\n",
        "    gender = gender_by_name(name)\n",
        "    if gender is not None:\n",
        "        replies_gender[gender].append(f'{name}: {reply}')\n",
        "\n",
        "if len(replies_gender['м']) > 0:\n",
        "  print('Реплики мужчин (первые 5):')\n",
        "  for reply in replies_gender['м'][:5]:\n",
        "      print(reply)\n",
        "\n",
        "if len(replies_gender['ж']) > 0:\n",
        "  print('Реплики женщин (первые 5):')\n",
        "  for reply in replies_gender['ж'][:5]:\n",
        "    print(reply)"
      ]
    }
  ],
  "metadata": {
    "colab": {
      "provenance": [],
      "include_colab_link": true
    },
    "kernelspec": {
      "display_name": "Python 3",
      "name": "python3"
    },
    "language_info": {
      "name": "python"
    }
  },
  "nbformat": 4,
  "nbformat_minor": 0
}